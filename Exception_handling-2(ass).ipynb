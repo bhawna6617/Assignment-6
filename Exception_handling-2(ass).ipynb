{
 "cells": [
  {
   "cell_type": "markdown",
   "id": "7c526ed3",
   "metadata": {},
   "source": [
    "# question 1"
   ]
  },
  {
   "cell_type": "code",
   "execution_count": 1,
   "id": "68d9679f",
   "metadata": {},
   "outputs": [],
   "source": [
    "# 1. To improve readability of your code.\n",
    "# 2. To enhance reusability of features.\n",
    "# 3.To provide custom messages/instructions to users for specific use cases."
   ]
  },
  {
   "cell_type": "code",
   "execution_count": 2,
   "id": "cd9303db",
   "metadata": {},
   "outputs": [
    {
     "ename": "IndentationError",
     "evalue": "unexpected indent (423298212.py, line 4)",
     "output_type": "error",
     "traceback": [
      "\u001b[1;36m  Cell \u001b[1;32mIn[2], line 4\u001b[1;36m\u001b[0m\n\u001b[1;33m    class test(Exception):\u001b[0m\n\u001b[1;37m    ^\u001b[0m\n\u001b[1;31mIndentationError\u001b[0m\u001b[1;31m:\u001b[0m unexpected indent\n"
     ]
    }
   ],
   "source": [
    "# example:-\n",
    "\n",
    "\n",
    " class test(Exception):\n",
    "        def __init__(self , *args):\n",
    "            if args:\n",
    "                self.msg = args[0]\n",
    "            else:\n",
    "                self.msg = none\n",
    "                \n",
    "        def __str__(self):\n",
    "            print(\"using str\")\n",
    "            if self.msg:\n",
    "                return \"test,{0}\" . format(self.msg)\n",
    "            else:\n",
    "                return \"test has been raised\"\n",
    "            \n",
    "raise test\n",
    "            "
   ]
  },
  {
   "cell_type": "markdown",
   "id": "6cdac295",
   "metadata": {},
   "source": [
    "# question 2"
   ]
  },
  {
   "cell_type": "code",
   "execution_count": 3,
   "id": "d9a32eaa",
   "metadata": {},
   "outputs": [
    {
     "name": "stdout",
     "output_type": "stream",
     "text": [
      "BaseExceptionGroup\n",
      "    ExceptionGroup\n",
      "Exception\n",
      "    ArithmeticError\n",
      "    AssertionError\n",
      "    AttributeError\n",
      "    BufferError\n",
      "    EOFError\n",
      "    ImportError\n",
      "    LookupError\n",
      "    MemoryError\n",
      "    NameError\n",
      "    OSError\n",
      "    ReferenceError\n",
      "    RuntimeError\n",
      "    StopAsyncIteration\n",
      "    StopIteration\n",
      "    SyntaxError\n",
      "    SystemError\n",
      "    TypeError\n",
      "    ValueError\n",
      "    Warning\n",
      "    ExceptionGroup\n",
      "    _OptionError\n",
      "    _Error\n",
      "    error\n",
      "    Error\n",
      "    SubprocessError\n",
      "    ZMQBaseError\n",
      "    Error\n",
      "    error\n",
      "    PickleError\n",
      "    _Stop\n",
      "    TokenError\n",
      "    StopTokenizing\n",
      "    Error\n",
      "    _GiveupOnSendfile\n",
      "    Incomplete\n",
      "    ClassFoundException\n",
      "    EndOfBlock\n",
      "    InvalidStateError\n",
      "    LimitOverrunError\n",
      "    QueueEmpty\n",
      "    QueueFull\n",
      "    error\n",
      "    LZMAError\n",
      "    RegistryError\n",
      "    _GiveupOnFastCopy\n",
      "    TraitError\n",
      "    Empty\n",
      "    Full\n",
      "    ArgumentError\n",
      "    COMError\n",
      "    ReturnValueIgnoredError\n",
      "    ArgumentError\n",
      "    ArgumentTypeError\n",
      "    ConfigError\n",
      "    ConfigurableError\n",
      "    ApplicationError\n",
      "    InvalidPortNumber\n",
      "    NoIPAddresses\n",
      "    Error\n",
      "    BadZipFile\n",
      "    LargeZipFile\n",
      "    MessageError\n",
      "    DuplicateKernelError\n",
      "    ErrorDuringImport\n",
      "    NotOneValueFound\n",
      "    KnownIssue\n",
      "    VerifierFailure\n",
      "    CannotEval\n",
      "    OptionError\n",
      "    BdbQuit\n",
      "    Restart\n",
      "    FindCmdError\n",
      "    HomeDirError\n",
      "    ProfileDirError\n",
      "    IPythonCoreError\n",
      "    InputRejected\n",
      "    GetoptError\n",
      "    ErrorToken\n",
      "    PrefilterError\n",
      "    AliasError\n",
      "    Error\n",
      "    Warning\n",
      "    SpaceInInput\n",
      "    DOMException\n",
      "    ValidationError\n",
      "    EditReadOnlyBuffer\n",
      "    _Retry\n",
      "    InvalidLayoutError\n",
      "    HeightIsUnknownError\n",
      "    GuardRejection\n",
      "    ParserSyntaxError\n",
      "    InternalParseError\n",
      "    _PositionUpdatingFinished\n",
      "    SimpleGetItemNotFound\n",
      "    UncaughtAttributeError\n",
      "    HasNoContext\n",
      "    ParamIssue\n",
      "    _JediError\n",
      "    OnErrorLeaf\n",
      "    InvalidPythonEnvironment\n",
      "    HTTPException\n",
      "    InteractivelyDefined\n",
      "    KillEmbedded\n",
      "    Error\n",
      "    Error\n",
      "    TimeoutExpired\n",
      "    TimeoutAbandoned\n",
      "    KeyReuseError\n",
      "    UnknownKeyError\n",
      "    LeakedCallbackError\n",
      "    BadYieldError\n",
      "    ReturnValueIgnoredError\n",
      "    Return\n",
      "    QueueEmpty\n",
      "    QueueFull\n",
      "    DebuggerInitializationError\n",
      "    ExpatError\n",
      "    Error\n",
      "    error\n",
      "    com_error\n",
      "    internal_error\n",
      "    ParseBaseException\n",
      "    RecursiveGrammarException\n",
      "    ResolutionError\n",
      "    _Error\n",
      "    UnableToResolveVariableException\n",
      "    InvalidTypeInArgsException\n",
      "GeneratorExit\n",
      "KeyboardInterrupt\n",
      "SystemExit\n",
      "CancelledError\n",
      "AbortThread\n"
     ]
    }
   ],
   "source": [
    "# example:-\n",
    "\n",
    "def print_exception_hierarchy():\n",
    "    exception_classes = BaseException.__subclasses__()\n",
    "    for exception_class in exception_classes:\n",
    "        print(exception_class.__name__)\n",
    "        subclasses = exception_class.__subclasses__()\n",
    "        for subclass in subclasses:\n",
    "            print('    ' + subclass.__name__)\n",
    "\n",
    "# Print the Python Exception Hierarchy\n",
    "print_exception_hierarchy()\n"
   ]
  },
  {
   "cell_type": "markdown",
   "id": "83fb5620",
   "metadata": {},
   "source": [
    "# question 3"
   ]
  },
  {
   "cell_type": "code",
   "execution_count": 12,
   "id": "f9f893cc",
   "metadata": {},
   "outputs": [],
   "source": [
    "#The ArithmeticError class is a base class for all errors related to arithmetic operations in Python. It encompasses several specific error classes that represent different types of arithmetic errors. Here are two common errors defined in the ArithmeticError class:"
   ]
  },
  {
   "cell_type": "code",
   "execution_count": 13,
   "id": "3b1b563a",
   "metadata": {},
   "outputs": [
    {
     "name": "stdout",
     "output_type": "stream",
     "text": [
      "Error: Division by zero\n"
     ]
    }
   ],
   "source": [
    "# 1. ZeroDivisionError: This error occurs when a division or modulo operation is performed with zero as the divisor. It is raised when you attempt to divide a number by zero.\n",
    "\n",
    "# example:-\n",
    "try:\n",
    "    result = 10 / 0\n",
    "except ZeroDivisionError:\n",
    "    print(\"Error: Division by zero\")\n",
    "\n"
   ]
  },
  {
   "cell_type": "code",
   "execution_count": 14,
   "id": "63591f6b",
   "metadata": {},
   "outputs": [],
   "source": [
    "# 2. OverflowError: This error is raised when an arithmetic operation results in a value that exceeds the range of the data type\n"
   ]
  },
  {
   "cell_type": "code",
   "execution_count": 15,
   "id": "e6fd73d3",
   "metadata": {},
   "outputs": [],
   "source": [
    "# example:-\n",
    "\n",
    "try:\n",
    "    result = 2 ** 1000# its extremly large\n",
    "    \n",
    "except OverflowError as e:\n",
    "    print(\"error: overflow\" ,e) # output = error:overflow"
   ]
  },
  {
   "cell_type": "markdown",
   "id": "43421f0e",
   "metadata": {},
   "source": [
    "# question 4"
   ]
  },
  {
   "cell_type": "code",
   "execution_count": 16,
   "id": "60eb2e41",
   "metadata": {},
   "outputs": [],
   "source": [
    "# why ? = \n",
    "#The LookupError class is a base class for all errors that occur when a specified key or index is not found during a lookup operation."
   ]
  },
  {
   "cell_type": "code",
   "execution_count": 17,
   "id": "adadb65b",
   "metadata": {},
   "outputs": [
    {
     "name": "stdout",
     "output_type": "stream",
     "text": [
      "Error: Key not found in the dictionary\n"
     ]
    }
   ],
   "source": [
    "# 1. keyerror =This error is raised when a dictionary key is not found during a lookup or retrieval operation.\n",
    "\n",
    "\n",
    " # example:-\n",
    "    \n",
    "my_dict = {'name': 'John', 'age': 25}\n",
    "\n",
    "try:\n",
    "    value = my_dict['city']# because it does not exist\n",
    "except KeyError:\n",
    "    print(\"Error: Key not found in the dictionary\")\n",
    "\n",
    "    "
   ]
  },
  {
   "cell_type": "code",
   "execution_count": 18,
   "id": "36822ac6",
   "metadata": {},
   "outputs": [
    {
     "name": "stdout",
     "output_type": "stream",
     "text": [
      "Error: Index is out of range\n"
     ]
    }
   ],
   "source": [
    "# 2.  IndexError =  This error is raised when an index is out of range or not found while accessing elements in a sequence .\n",
    "\n",
    "# example:-\n",
    "\n",
    "my_list = [1, 2, 3]\n",
    "\n",
    "try:\n",
    "    value = my_list[3] # because range is [0,1,2] available but position 3 is not exist\n",
    "except IndexError:\n",
    "    print(\"Error: Index is out of range\")"
   ]
  },
  {
   "cell_type": "markdown",
   "id": "d876266b",
   "metadata": {},
   "source": [
    "# question 5"
   ]
  },
  {
   "cell_type": "code",
   "execution_count": 19,
   "id": "e77b2a5e",
   "metadata": {},
   "outputs": [
    {
     "name": "stdout",
     "output_type": "stream",
     "text": [
      "Error: Module not found or could not be imported\n"
     ]
    }
   ],
   "source": [
    "# Explain ImportError = This exception is raised when an import statement fails to locate or load a module. It can occur due to various reasons, such as:\n",
    "\n",
    "# 1. The module name is misspelled or does not exist.\n",
    "# 2. The module is not installed or is not available in the current environment.\n",
    "# 3. There are errors within the module itself, preventing it from being imported.\n",
    "\n",
    "# exmple:-\n",
    "\n",
    "try:\n",
    "    import non_existent_module\n",
    "except ImportError:\n",
    "    print(\"Error: Module not found or could not be imported\")\n",
    "\n",
    "\n",
    "\n",
    "\n"
   ]
  },
  {
   "cell_type": "code",
   "execution_count": 20,
   "id": "2c98c9cb",
   "metadata": {},
   "outputs": [
    {
     "name": "stdout",
     "output_type": "stream",
     "text": [
      "Error: Module not found or could not be imported\n"
     ]
    }
   ],
   "source": [
    "# What is ModuleNotError ? =  This exception is raised when an import statement fails to locate or load a module. It can occur due to various reasons, such as:\n",
    "\n",
    "# 1. The module name is misspelled or does not exist.\n",
    "# 2. The module is not installed or is not available in the current environment.\n",
    "# 3. There are errors within the module itself, preventing it from being imported.\n",
    "\n",
    " # example :-\n",
    "\n",
    "try:\n",
    "    import non_existent_module\n",
    "except ImportError:\n",
    "    print(\"Error: Module not found or could not be imported\")\n"
   ]
  },
  {
   "cell_type": "markdown",
   "id": "3b829081",
   "metadata": {},
   "source": [
    "# question 6"
   ]
  },
  {
   "cell_type": "code",
   "execution_count": 21,
   "id": "05d53a07",
   "metadata": {},
   "outputs": [],
   "source": [
    "# use always a specific excption"
   ]
  },
  {
   "cell_type": "code",
   "execution_count": 22,
   "id": "ee63d37f",
   "metadata": {},
   "outputs": [
    {
     "name": "stdout",
     "output_type": "stream",
     "text": [
      "division by zero\n"
     ]
    }
   ],
   "source": [
    "# example:-\n",
    "try:\n",
    "    10/0\n",
    "    \n",
    "except ZeroDivisionError as e:\n",
    "    print(e)"
   ]
  },
  {
   "cell_type": "code",
   "execution_count": 23,
   "id": "d48c9987",
   "metadata": {},
   "outputs": [],
   "source": [
    "#print always a proper msg"
   ]
  },
  {
   "cell_type": "code",
   "execution_count": 24,
   "id": "1cd512a8",
   "metadata": {},
   "outputs": [
    {
     "name": "stdout",
     "output_type": "stream",
     "text": [
      "i am handling a zerodivision msg division by zero\n"
     ]
    }
   ],
   "source": [
    "try:\n",
    "    10/0\n",
    "    \n",
    "except ZeroDivisionError as e:\n",
    "    print(\"i am handling a zerodivision msg\",e)"
   ]
  },
  {
   "cell_type": "code",
   "execution_count": 25,
   "id": "c472e0ea",
   "metadata": {},
   "outputs": [
    {
     "name": "stdout",
     "output_type": "stream",
     "text": [
      "Error: [Errno 2] No such file or directory: 'non_existent_file.txt'\n"
     ]
    }
   ],
   "source": [
    "# doucment all the error\n",
    "# cleanup error\n",
    "# FileNotFound\n",
    "# example :-\n",
    "try:\n",
    "    file = open(\"non_existent_file.txt\")\n",
    "except FileNotFoundError as e:\n",
    "    print(f\"Error: {e}\")\n",
    "\n"
   ]
  },
  {
   "cell_type": "code",
   "execution_count": 26,
   "id": "ec05605b",
   "metadata": {},
   "outputs": [
    {
     "name": "stdout",
     "output_type": "stream",
     "text": [
      "Result: 5.0\n"
     ]
    }
   ],
   "source": [
    "#try-except-else\n",
    "#example:-\n",
    "try:\n",
    "    result = 10 / 2\n",
    "except ZeroDivisionError:\n",
    "    print(\"Error: Division by zero\")\n",
    "else:\n",
    "    print(\"Result:\", result)\n"
   ]
  },
  {
   "cell_type": "code",
   "execution_count": 28,
   "id": "16ebed73",
   "metadata": {},
   "outputs": [
    {
     "name": "stdout",
     "output_type": "stream",
     "text": [
      "Error: File not found\n"
     ]
    },
    {
     "ename": "NameError",
     "evalue": "name 'file' is not defined",
     "output_type": "error",
     "traceback": [
      "\u001b[1;31m---------------------------------------------------------------------------\u001b[0m",
      "\u001b[1;31mNameError\u001b[0m                                 Traceback (most recent call last)",
      "Cell \u001b[1;32mIn[28], line 9\u001b[0m\n\u001b[0;32m      7\u001b[0m     \u001b[38;5;28mprint\u001b[39m(\u001b[38;5;124m\"\u001b[39m\u001b[38;5;124mError: File not found\u001b[39m\u001b[38;5;124m\"\u001b[39m)\n\u001b[0;32m      8\u001b[0m \u001b[38;5;28;01mfinally\u001b[39;00m:\n\u001b[1;32m----> 9\u001b[0m     \u001b[43mfile\u001b[49m\u001b[38;5;241m.\u001b[39mclose()\n",
      "\u001b[1;31mNameError\u001b[0m: name 'file' is not defined"
     ]
    }
   ],
   "source": [
    "#finally\n",
    "#example:-\n",
    "try:\n",
    "    file = open(\"data.txt\",\"r\")\n",
    "  \n",
    "except FileNotFoundError:\n",
    "    print(\"Error: File not found\")\n",
    "finally:\n",
    "    file.close()\n"
   ]
  },
  {
   "cell_type": "code",
   "execution_count": 29,
   "id": "658c15c2",
   "metadata": {},
   "outputs": [
    {
     "name": "stderr",
     "output_type": "stream",
     "text": [
      "ERROR:root:File not found\n",
      "Traceback (most recent call last):\n",
      "  File \"C:\\Users\\bhawn\\AppData\\Local\\Temp\\ipykernel_17920\\1010416696.py\", line 6, in <module>\n",
      "    file = open(\"non_existent_file.txt\")\n",
      "           ^^^^^^^^^^^^^^^^^^^^^^^^^^^^^\n",
      "  File \"C:\\Users\\bhawn\\AppData\\Local\\Programs\\Python\\Python311\\Lib\\site-packages\\IPython\\core\\interactiveshell.py\", line 284, in _modified_open\n",
      "    return io_open(file, *args, **kwargs)\n",
      "           ^^^^^^^^^^^^^^^^^^^^^^^^^^^^^^\n",
      "FileNotFoundError: [Errno 2] No such file or directory: 'non_existent_file.txt'\n"
     ]
    }
   ],
   "source": [
    "#logging\n",
    "#example;-\n",
    "import logging\n",
    "\n",
    "try:\n",
    "    file = open(\"non_existent_file.txt\")\n",
    "except FileNotFoundError as e:\n",
    "    logging.exception(\"File not found\")\n",
    "\n"
   ]
  },
  {
   "cell_type": "code",
   "execution_count": null,
   "id": "7cfacba5",
   "metadata": {},
   "outputs": [],
   "source": []
  }
 ],
 "metadata": {
  "kernelspec": {
   "display_name": "Python 3 (ipykernel)",
   "language": "python",
   "name": "python3"
  },
  "language_info": {
   "codemirror_mode": {
    "name": "ipython",
    "version": 3
   },
   "file_extension": ".py",
   "mimetype": "text/x-python",
   "name": "python",
   "nbconvert_exporter": "python",
   "pygments_lexer": "ipython3",
   "version": "3.11.3"
  }
 },
 "nbformat": 4,
 "nbformat_minor": 5
}
